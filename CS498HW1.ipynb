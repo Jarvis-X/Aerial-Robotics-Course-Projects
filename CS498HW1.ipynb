{
  "nbformat": 4,
  "nbformat_minor": 0,
  "metadata": {
    "colab": {
      "name": "CS498HW1.ipynb",
      "provenance": [],
      "collapsed_sections": []
    },
    "kernelspec": {
      "name": "python3",
      "display_name": "Python 3"
    }
  },
  "cells": [
    {
      "cell_type": "code",
      "metadata": {
        "id": "zGhRAwrVAG5Z"
      },
      "source": [
        "import numpy as np\n",
        "\n",
        "\n",
        "# initial states, zero initial velocity\n",
        "x0 = [-3, 0, 9, 0, 0, 0]\n",
        "# coefficient of friction\n",
        "mu = 0.15\n",
        "# coefficient of restitution (v2 = CoR*v1)\n",
        "CoR = 0.5\n",
        "# air damping (f = -ad*v)\n",
        "ad = 0.005\n",
        "# parabola damping\n",
        "pd = 0.01\n",
        "# mass\n",
        "m = 0.5\n",
        "# gravity constant\n",
        "g = 9.8\n",
        "# time step\n",
        "dt = 0.0005\n",
        "# state vector \n",
        "state = np.array(x0)\n",
        "# damping?\n",
        "enable_damping = True\n",
        "# friction?\n",
        "enable_friction = True"
      ],
      "execution_count": 35,
      "outputs": []
    },
    {
      "cell_type": "code",
      "metadata": {
        "id": "Ahy8FYSdAIRi"
      },
      "source": [
        "# step function of the free-fall phase\n",
        "def step_free_fall(state, enable_damping=False):\n",
        "    x, y, z, dx, dy, dz = state\n",
        "    if not enable_damping:\n",
        "        dstate = np.array([dx, dy, dz, 0, 0, -g])\n",
        "    else:\n",
        "        dstate = np.array([dx, dy, dz, -ad*dx/m, -ad*dy/m, -g-ad*dz/m])\n",
        "    new_state = state + dstate * dt\n",
        "    return new_state\n",
        "\n",
        "# step function of the bouncing phase\n",
        "def step_bounce(state):\n",
        "    x, y, z, dx, dy, dz = state\n",
        "    # at the momemnt of contact we assume no motion at all, just a bounce\n",
        "    new_state = np.array([x, y, 0, dx, dy, -CoR*dz])\n",
        "    return new_state\n",
        "\n",
        "# step function of the parabola phase\n",
        "def step_parabola(state, enable_friction=False, enable_damping=False):\n",
        "    x, y, z, dx, dy, dz = state\n",
        "    # two forces are in the play: gravity and the support force from the curvature\n",
        "    # gravity force is easy -> [0, 0, -mg]\n",
        "    # support force is normal to the curvature while providing the centripetal \n",
        "    # force so that the object moves along the curvature/parabola; therefore\n",
        "    # it needs to be larger than the gravity's component along the curvature's\n",
        "    # radius\n",
        "    r = np.sqrt((4*x**2+1)**3)/2  # 1/(curvature of y=x^2): https://www.wolframalpha.com/input/?i=curvature+of+y%3Dx%5E2\n",
        "    k = 2*x # slope for future convenience\n",
        "    # determine if the object is moving forward or back\n",
        "    direction = 1 if dx > 0 else -1\n",
        "    k_u = direction*np.array([1, k])/np.sqrt(k**2+1) # unit vector along the slope in the direction of motion\n",
        "    k_n = direction*np.array([-k_u[1], k_u[0]]) # normal vector along the slope into the parabola\n",
        "    v = np.array([dx, dz]) # velocity of the object in x-z plane\n",
        "    netN = (np.dot(k_u, v)**2)/r # net normal acceleration along the radius of the curvature\n",
        "    N = netN + g/np.sqrt(k**2+1) # total normal acceleration\n",
        "    # the acceleration vectors are in the xz-plane\n",
        "    Nvector = N*k_n\n",
        "    total_acc_vector = Nvector + np.array([0, -g])\n",
        "    acc_x = total_acc_vector[0]\n",
        "    acc_z = total_acc_vector[1]\n",
        "    if not enable_friction and not enable_damping:\n",
        "        dstate = np.array([dx, dy, dz, acc_x, 0, acc_z])\n",
        "    elif not enable_damping:\n",
        "        friction = -mu*N*k_u\n",
        "        dstate = np.array([dx, dy, dz, acc_x + friction[0], 0, acc_z + friction[1]])\n",
        "    elif not enable_friction:\n",
        "        dstate = np.array([dx, dy, dz, acc_x - (ad+pd)*dx/m, -(ad+pd)*dy/m, acc_z - (ad+pd)*dz/m])\n",
        "    else:\n",
        "        # considering air damping AND the ramp damping\n",
        "        # direction = 1 if dx > 0 else -1\n",
        "        friction = -mu*N*k_u\n",
        "        dstate = np.array([dx, dy, dz, acc_x + friction[0] - (ad+pd)*dx/m, -(ad+pd)*dy/m, acc_z + friction[1] - (ad+pd)*dz/m])\n",
        "\n",
        "    new_state = state + dstate * dt\n",
        "    # # regulate the force\n",
        "    # new_state[2] = new_state[0]**2\n",
        "    return new_state"
      ],
      "execution_count": 36,
      "outputs": []
    },
    {
      "cell_type": "code",
      "metadata": {
        "id": "JFaBgP5iTmA6"
      },
      "source": [
        "def simulate(init_state, end_parabola_x, enable_friction=False, enable_damping=False, time_out=10):\r\n",
        "    length = int(time_out//dt)\r\n",
        "    state_log = np.zeros((length, 6))\r\n",
        "    state = init_state\r\n",
        "    count = 0\r\n",
        "    while count < length:\r\n",
        "        state_log[count, :] = state\r\n",
        "        if state[0] <= end_parabola_x:\r\n",
        "            state = step_parabola(state, enable_friction, enable_damping)\r\n",
        "        elif state[2]<0:\r\n",
        "            state = step_bounce(state)\r\n",
        "        else:\r\n",
        "            state = step_free_fall(state, enable_damping)\r\n",
        "        count += 1\r\n",
        "    return state_log"
      ],
      "execution_count": 37,
      "outputs": []
    },
    {
      "cell_type": "code",
      "metadata": {
        "colab": {
          "base_uri": "https://localhost:8080/"
        },
        "id": "MmLQYWOkZBEL",
        "outputId": "0cd26d9e-daed-4f0d-d32a-79f0a3b4564b"
      },
      "source": [
        "state_log = simulate(x0, 1, enable_friction, enable_damping)\r\n",
        "print(len(state_log))"
      ],
      "execution_count": 38,
      "outputs": [
        {
          "output_type": "stream",
          "text": [
            "19999\n"
          ],
          "name": "stdout"
        }
      ]
    },
    {
      "cell_type": "code",
      "metadata": {
        "colab": {
          "base_uri": "https://localhost:8080/"
        },
        "id": "x1VZQaBL_7QO",
        "outputId": "fa963926-d0dd-4ddc-9227-3aa3a2b87c86"
      },
      "source": [
        "!pip install JSAnimation"
      ],
      "execution_count": 7,
      "outputs": [
        {
          "output_type": "stream",
          "text": [
            "Collecting JSAnimation\n",
            "  Downloading https://files.pythonhosted.org/packages/3c/e6/a93a578400c38a43af8b4271334ed2444b42d65580f1d6721c9fe32e9fd8/JSAnimation-0.1.tar.gz\n",
            "Building wheels for collected packages: JSAnimation\n",
            "  Building wheel for JSAnimation (setup.py) ... \u001b[?25l\u001b[?25hdone\n",
            "  Created wheel for JSAnimation: filename=JSAnimation-0.1-cp36-none-any.whl size=11426 sha256=2d9ea04bc63e8894fe42f075f0a0c7e35fdabf1eb630d22e39216a246b2cd1bf\n",
            "  Stored in directory: /root/.cache/pip/wheels/3c/c2/b2/b444dffc3eed9c78139288d301c4009a42c0dd061d3b62cead\n",
            "Successfully built JSAnimation\n",
            "Installing collected packages: JSAnimation\n",
            "Successfully installed JSAnimation-0.1\n"
          ],
          "name": "stdout"
        }
      ]
    },
    {
      "cell_type": "code",
      "metadata": {
        "id": "8HUIBr12_rJn"
      },
      "source": [
        "import matplotlib.pyplot as plt\n",
        "from matplotlib import animation\n",
        "from JSAnimation import IPython_display\n",
        "from IPython.display import HTML\n",
        "\n",
        "path = np.zeros((50, 2))\n",
        "path[:,0] = np.linspace(-3,1)\n",
        "for i in range(len(path)):\n",
        "    path[i,1] = path[i,0]**2\n",
        "\n",
        "fig, ax = plt.subplots()\n",
        "plt.axis('equal')\n",
        "sampling = int(40)\n",
        "\n",
        "def animate(t):\n",
        "    ax.clear()\n",
        "    plt.grid()\n",
        "    \n",
        "    # Path\n",
        "    plt.plot(path[:,0], path[:,1], 'b')\n",
        "    # trajectory\n",
        "    plt.plot(state_log[::sampling,0], state_log[::sampling,2], 'r--')\n",
        "    \n",
        "    # current position\n",
        "    plt.plot(state_log[sampling*t,0], state_log[sampling*t,2], 'ko')\n",
        "    plt.arrow(state_log[sampling*t,0], state_log[sampling*t,2], state_log[sampling*t,3], state_log[sampling*t,5])\n",
        "    plt.text(0,-3,\"time: {:.1f}s\".format(t*dt*sampling))\n",
        "    \n",
        "    \n",
        "time = int(len(state_log)/sampling)\n",
        "anim = animation.FuncAnimation(fig, animate, frames=time, interval=dt*1000*sampling)\n",
        "\n",
        "HTML(anim.to_jshtml())"
      ],
      "execution_count": null,
      "outputs": []
    }
  ]
}